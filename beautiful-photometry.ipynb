{
 "cells": [
  {
   "cell_type": "markdown",
   "metadata": {},
   "source": [
    "# Beautiful Photometry\n",
    "\n",
    "* [GitHub]()\n",
    "\n",
    "A set of tools to compute lighting photometric data and generate beautiful graphics. This is a work in progress.\n",
    "\n",
    "It is based on the Colour Science library ([GitHub](https://github.com/colour-science/colour)) ([Docs](https://www.colour-science.org/)). "
   ]
  },
  {
   "cell_type": "code",
   "execution_count": 1,
   "metadata": {},
   "outputs": [],
   "source": [
    "# Setup\n",
    "%matplotlib inline\n",
    "\n",
    "# Colour Science Library\n",
    "import colour  "
   ]
  },
  {
   "cell_type": "code",
   "execution_count": null,
   "metadata": {},
   "outputs": [],
   "source": [
    "from spectrum import import_spd\n",
    "\n",
    "# Get the SPDs\n",
    "incandescent = import_spd('CSVs/incandescent.csv', 'Incandescent', normalize=True)\n",
    "halogen = import_spd('CSVs/halogen.csv', 'Halogen', normalize=True)\n",
    "led2700 = import_spd('CSVs/led2700.csv', '2700 K LED', normalize=True)\n",
    "\n",
    "# Print the CRI\n",
    "incandescent_cri = colour.colour_rendering_index(incandescent)\n",
    "halogen_cri = colour.colour_rendering_index(halogen)\n",
    "led2700_cri = colour.colour_rendering_index(led2700)\n",
    "\n",
    "print('Incandescent CRI:', incandescent_cri)\n",
    "print('Halogen CRI:', halogen_cri)\n",
    "print('2700 K LED CRI:', led2700_cri)"
   ]
  },
  {
   "cell_type": "code",
   "execution_count": null,
   "metadata": {},
   "outputs": [],
   "source": [
    "from plot import plot_spectrum, plot_multi_spectrum\n",
    "\n",
    "plot_spectrum(incandescent, hideyaxis=True, melanopic_curve=True, melanopic_stimulus=True)\n",
    "plot_spectrum(halogen, hideyaxis=True, melanopic_curve=True, melanopic_stimulus=True, filename='out/halogen.png')\n",
    "plot_spectrum(led2700, hideyaxis=True)\n",
    "\n",
    "plot_multi_spectrum([incandescent, halogen, led2700], melanopic_curve=True, hideyaxis=True)"
   ]
  },
  {
   "cell_type": "code",
   "execution_count": null,
   "metadata": {},
   "outputs": [],
   "source": [
    "# Get the SPDs\n",
    "daylight = import_spd('CSVs/daylight.csv', 'Daylight', normalize=True)\n",
    "night = import_spd('CSVs/moonlight.csv', 'Night', normalize=True)\n",
    "candle = import_spd('CSVs/candle.csv', 'Fire', normalize=True)\n",
    "\n",
    "plot_spectrum(daylight, hideyaxis=True, melanopic_curve=True, melanopic_stimulus=True, filename='out/daylight.png')\n",
    "plot_spectrum(night, hideyaxis=True, melanopic_curve=True, melanopic_stimulus=True, filename='out/night.png')\n",
    "plot_spectrum(candle, hideyaxis=True, melanopic_curve=True, melanopic_stimulus=True, filename='out/candle.png')"
   ]
  },
  {
   "cell_type": "code",
   "execution_count": null,
   "metadata": {},
   "outputs": [],
   "source": [
    "# Bedtime Bulb Comparison\n",
    "\n",
    "bedtimebulb = import_spd('CSVs/bedtime_bulb.csv', 'Bedtime Bulb', normalize=True)\n",
    "bedtimebulbweighted = import_spd('CSVs/bedtime_bulb.csv', 'Bedtime Bulb', normalize=True, weight=350/650)\n",
    "\n",
    "soraa = import_spd('CSVs/soraa.csv', 'Soraa Healthy', normalize=True)\n",
    "soraaweighted = import_spd('CSVs/soraa.csv', 'Soraa Healthy', normalize=True, weight=600/650)\n",
    "\n",
    "lsg = import_spd('CSVs/lsg.csv', 'LSG Goodnight', normalize=True)\n",
    "lsgweighted = lsg\n",
    "\n",
    "plot_spectrum(bedtimebulb, hideyaxis=True, melanopic_curve=True, melanopic_stimulus=True, filename='out/Bedtime Bulb Spectrum.png')\n",
    "plot_spectrum(soraa, hideyaxis=True, melanopic_curve=True, melanopic_stimulus=True)\n",
    "plot_spectrum(lsg, hideyaxis=True, melanopic_curve=True, melanopic_stimulus=True)\n",
    "plot_multi_spectrum([bedtimebulbweighted, soraaweighted, lsgweighted], melanopic_curve=True, hideyaxis=True, filename='out/Low Blue Comparison.png')"
   ]
  },
  {
   "cell_type": "code",
   "execution_count": null,
   "metadata": {},
   "outputs": [],
   "source": [
    "bedtimebulbweighted = import_spd('CSVs/bedtime_bulb.csv', 'Bedtime Bulb', normalize=True, weight=350/800)\n",
    "halogenweighted = import_spd('CSVs/halogen.csv', 'Halogen 650 lm', normalize=True, weight=650/800)\n",
    "incandescent = import_spd('CSVs/incandescent.csv', 'Incandescent 800 lm', normalize=True)\n",
    "led2700 = import_spd('CSVs/led2700.csv', 'LED 2700K 800 lm', normalize=True)\n",
    "\n",
    "plot_multi_spectrum([bedtimebulbweighted, incandescent, halogenweighted, led2700], melanopic_curve=True, hideyaxis=True, filename='out/Traditional Source Comparison.png')"
   ]
  },
  {
   "cell_type": "code",
   "execution_count": null,
   "metadata": {},
   "outputs": [],
   "source": [
    "# Melanopic Ratio\n",
    "from human_circadian import melanopic_ratio, melanopic_response, melanopic_lumens, melanopic_photopic_ratio\n",
    "from human_visual import scotopic_photopic_ratio\n",
    "\n",
    "print('melanopic response')\n",
    "print(melanopic_response(bedtimebulb))\n",
    "print(melanopic_response(incandescent))\n",
    "print(melanopic_response(halogen))\n",
    "print(melanopic_response(led2700))\n",
    "\n",
    "print('melanopic ratio')\n",
    "print(melanopic_ratio(bedtimebulb))\n",
    "print(melanopic_ratio(incandescent))\n",
    "print(melanopic_ratio(halogen))\n",
    "print(melanopic_ratio(led2700))\n",
    "\n",
    "print('melanopic lumens')\n",
    "print(melanopic_lumens(bedtimebulb, 350))\n",
    "print(melanopic_lumens(incandescent, 800))\n",
    "print(melanopic_lumens(halogen, 650))\n",
    "print(melanopic_lumens(led2700, 800))\n",
    "\n",
    "print('s/p ratio')\n",
    "print(scotopic_photopic_ratio(bedtimebulb))\n",
    "print(scotopic_photopic_ratio(incandescent))\n",
    "print(scotopic_photopic_ratio(halogen))\n",
    "print(scotopic_photopic_ratio(led2700))\n",
    "\n",
    "print('m/p ratio')\n",
    "print(melanopic_photopic_ratio(bedtimebulb))\n",
    "print(melanopic_photopic_ratio(incandescent))\n",
    "print(melanopic_photopic_ratio(halogen))\n",
    "print(melanopic_photopic_ratio(led2700))"
   ]
  },
  {
   "cell_type": "code",
   "execution_count": null,
   "metadata": {},
   "outputs": [],
   "source": [
    "# Indoor vs. Outdoor light\n",
    "daylight = import_spd('CSVs/daylight.csv', 'Daylight', normalize=True) # ~10,000 lux\n",
    "night = import_spd('CSVs/moonlight.csv', 'Outdoor Night', normalize=True, weight=0.32/10000) # 0.32 lux\n",
    "indoor = import_spd('CSVs/halogen.csv', 'Indoor Recommended', normalize=True, weight=500/10000) # 500 lux, indoor halogen\n",
    "plot_multi_spectrum([daylight, night, indoor], melanopic_curve=True, hideyaxis=True, filename='out/Indoor vs Outdoor.png')"
   ]
  },
  {
   "cell_type": "code",
   "execution_count": null,
   "metadata": {},
   "outputs": [],
   "source": [
    "# Interior vs. nighttime light\n",
    "night = import_spd('CSVs/moonlight.csv', 'Outdoor Night', normalize=True, weight=0.32/500) # 0.32 lux\n",
    "indoor = import_spd('CSVs/halogen.csv', 'Indoor Recommended', normalize=True) # 500 lux, indoor halogen\n",
    "bedtimebulbweighted = import_spd('CSVs/bedtime_bulb.csv', 'Bedtime Bulb', normalize=True, weight=100/500) # 100 lux\n",
    "plot_multi_spectrum([night, indoor, bedtimebulbweighted], melanopic_curve=True, hideyaxis=True, filename='out/Indoor Comparison.png')"
   ]
  },
  {
   "cell_type": "code",
   "execution_count": null,
   "metadata": {},
   "outputs": [],
   "source": [
    "plot_multi_spectrum([night, indoor], melanopic_curve=True, hideyaxis=True, filename='out/Indoor Comparison no BB.png')"
   ]
  },
  {
   "cell_type": "code",
   "execution_count": null,
   "metadata": {},
   "outputs": [],
   "source": [
    "# GE Align PM vs BB\n",
    "gealignpm = import_spd('CSVs/GE_Align_PM.csv', 'GE Align PM', normalize=True)\n",
    "plot_multi_spectrum([bedtimebulb, gealignpm], melanopic_curve=True, hideyaxis=True)"
   ]
  },
  {
   "cell_type": "code",
   "execution_count": null,
   "metadata": {},
   "outputs": [],
   "source": [
    "# S/P/M\n",
    "from human_circadian import get_melanopic_curve\n",
    "from human_visual import get_scotopic_curve, get_photopic_curve\n",
    "plot_multi_spectrum([get_melanopic_curve(), get_scotopic_curve(), get_photopic_curve()], hideyaxis=True)\n",
    "\n"
   ]
  },
  {
   "cell_type": "code",
   "execution_count": null,
   "metadata": {},
   "outputs": [],
   "source": []
  }
 ],
 "metadata": {
  "kernelspec": {
   "display_name": "Python 3",
   "language": "python",
   "name": "python3"
  },
  "language_info": {
   "codemirror_mode": {
    "name": "ipython",
    "version": 3
   },
   "file_extension": ".py",
   "mimetype": "text/x-python",
   "name": "python",
   "nbconvert_exporter": "python",
   "pygments_lexer": "ipython3",
   "version": "3.7.0"
  }
 },
 "nbformat": 4,
 "nbformat_minor": 2
}
