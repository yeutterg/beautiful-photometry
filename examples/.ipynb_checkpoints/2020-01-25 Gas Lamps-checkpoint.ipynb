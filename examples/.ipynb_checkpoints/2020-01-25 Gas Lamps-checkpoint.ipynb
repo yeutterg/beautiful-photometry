{
 "cells": [
  {
   "cell_type": "code",
   "execution_count": 1,
   "metadata": {},
   "outputs": [
    {
     "name": "stderr",
     "output_type": "stream",
     "text": [
      "/usr/local/lib/python3.7/site-packages/colour/utilities/verbose.py:141: ColourWarning: \"domain\" and \"range\" variables have different size, \"range\" variable will be resized to \"domain\" variable shape!\n",
      "  warn(*args, **kwargs)\n"
     ]
    }
   ],
   "source": [
    "# displays plots in this notebook\n",
    "%matplotlib inline \n",
    "\n",
    "# Since we are in the ./examples folder, add the root folder (../) to the path\n",
    "import sys\n",
    "sys.path.append('../')\n",
    "\n",
    "from src.spectrum import import_spd_batch, import_spd\n",
    "from src.plot import plot_spectrum, plot_multi_spectrum\n",
    "\n",
    "# Get the SPDs\n",
    "#spds = import_spd_batch('../CSVs/2019_guangzhou/', photometer='uprtek')\n",
    "bedtime_bulb = import_spd('../CSVs/bedtime_bulb.csv', 'Bedtime Bulb', normalize=True)\n",
    "incandescent = import_spd('../CSVs/Incandescent.csv', 'Incandescent', normalize=True)\n",
    "halogen = import_spd('../CSVs/Halogen.csv', 'Halogen', normalize=True)\n",
    "gas = import_spd('../CSVs/palmetto_gas_lights.xls', 'Open-Flame Gas', normalize=True, photometer='uprtek')"
   ]
  },
  {
   "cell_type": "code",
   "execution_count": 2,
   "metadata": {
    "scrolled": true
   },
   "outputs": [
    {
     "name": "stderr",
     "output_type": "stream",
     "text": [
      "/usr/local/lib/python3.7/site-packages/matplotlib/figure.py:2369: UserWarning: This figure includes Axes that are not compatible with tight_layout, so results might be incorrect.\n",
      "  warnings.warn(\"This figure includes Axes that are not compatible \"\n"
     ]
    },
    {
     "data": {
      "image/png": "[encoded data removed]",
      "text/plain": [
       "<Figure size 576x288 with 1 Axes>"
      ]
     },
     "metadata": {
      "needs_background": "light"
     },
     "output_type": "display_data"
    }
   ],
   "source": [
    "# Philips Warm Glow Filament\n",
    "#plot_multi_spectrum([bedtime_bulb, spds['Philips Warm Glow 2700K'], halogen, incandescent], title='Bedtime Bulb vs. Standard Sources (Normalized)', melanopic_curve=True, hideyaxis=False, legend_loc='upper left', filename='../out/bedtime_bulb_vs_std_normalized.png')\n",
    "\n",
    "\n",
    "#Palmetto gas lamps raw\n",
    "plot_spectrum(gas, title='Open-Flame Natural Gas Lamps', melanopic_curve=True, hideyaxis=True, filename='../out/palmetto_gas_lamp.png')\n",
    "\n"
   ]
  },
  {
   "cell_type": "code",
   "execution_count": 17,
   "metadata": {},
   "outputs": [
    {
     "ename": "TypeError",
     "evalue": "'>=' not supported between instances of 'SpectralPowerDistribution' and 'int'",
     "output_type": "error",
     "traceback": [
      "\u001b[0;31m---------------------------------------------------------------------------\u001b[0m",
      "\u001b[0;31mTypeError\u001b[0m                                 Traceback (most recent call last)",
      "\u001b[0;32m<ipython-input-17-c3274e0149c6>\u001b[0m in \u001b[0;36m<module>\u001b[0;34m\u001b[0m\n\u001b[1;32m      1\u001b[0m \u001b[0;32mfrom\u001b[0m \u001b[0msrc\u001b[0m\u001b[0;34m.\u001b[0m\u001b[0mhuman_circadian\u001b[0m \u001b[0;32mimport\u001b[0m \u001b[0mspectral_g_index\u001b[0m\u001b[0;34m\u001b[0m\u001b[0;34m\u001b[0m\u001b[0m\n\u001b[1;32m      2\u001b[0m \u001b[0;34m\u001b[0m\u001b[0m\n\u001b[0;32m----> 3\u001b[0;31m \u001b[0mg_index\u001b[0m \u001b[0;34m=\u001b[0m \u001b[0mspectral_g_index\u001b[0m\u001b[0;34m(\u001b[0m\u001b[0mgas\u001b[0m\u001b[0;34m)\u001b[0m\u001b[0;34m\u001b[0m\u001b[0;34m\u001b[0m\u001b[0m\n\u001b[0m",
      "\u001b[0;32m/beautiful-photometry/src/human_circadian.py\u001b[0m in \u001b[0;36mspectral_g_index\u001b[0;34m(spd)\u001b[0m\n\u001b[1;32m     34\u001b[0m \u001b[0;34m\u001b[0m\u001b[0m\n\u001b[1;32m     35\u001b[0m     \u001b[0mprint\u001b[0m\u001b[0;34m(\u001b[0m\u001b[0mspd\u001b[0m\u001b[0;34m.\u001b[0m\u001b[0mwavelengths\u001b[0m\u001b[0;34m)\u001b[0m\u001b[0;34m\u001b[0m\u001b[0;34m\u001b[0m\u001b[0m\n\u001b[0;32m---> 36\u001b[0;31m \u001b[0;34m\u001b[0m\u001b[0m\n\u001b[0m\u001b[1;32m     37\u001b[0m     \u001b[0;31m# numerator: sum spectral values from 380 to 500 nm\u001b[0m\u001b[0;34m\u001b[0m\u001b[0;34m\u001b[0m\u001b[0;34m\u001b[0m\u001b[0m\n\u001b[1;32m     38\u001b[0m     \u001b[0mnumer\u001b[0m \u001b[0;34m=\u001b[0m \u001b[0;36m0.0\u001b[0m\u001b[0;34m\u001b[0m\u001b[0;34m\u001b[0m\u001b[0m\n",
      "\u001b[0;31mTypeError\u001b[0m: '>=' not supported between instances of 'SpectralPowerDistribution' and 'int'"
     ]
    }
   ],
   "source": [
    "from src.human_circadian import spectral_g_index\n",
    "\n",
    "g_index = spectral_g_index(gas)\n",
    "print(g_index)"
   ]
  },
  {
   "cell_type": "code",
   "execution_count": null,
   "metadata": {},
   "outputs": [],
   "source": []
  },
  {
   "cell_type": "code",
   "execution_count": null,
   "metadata": {},
   "outputs": [],
   "source": []
  }
 ],
 "metadata": {
  "kernelspec": {
   "display_name": "Python 3",
   "language": "python",
   "name": "python3"
  },
  "language_info": {
   "codemirror_mode": {
    "name": "ipython",
    "version": 3
   },
   "file_extension": ".py",
   "mimetype": "text/x-python",
   "name": "python",
   "nbconvert_exporter": "python",
   "pygments_lexer": "ipython3",
   "version": "3.7.2"
  }
 },
 "nbformat": 4,
 "nbformat_minor": 2
}
